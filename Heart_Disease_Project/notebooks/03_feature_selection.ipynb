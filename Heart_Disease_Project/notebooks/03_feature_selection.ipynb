{
  "nbformat": 4,
  "nbformat_minor": 0,
  "metadata": {
    "colab": {
      "provenance": []
    },
    "kernelspec": {
      "name": "python3",
      "display_name": "Python 3"
    },
    "language_info": {
      "name": "python"
    }
  },
  "cells": [
    {
      "cell_type": "code",
      "execution_count": 1,
      "metadata": {
        "colab": {
          "base_uri": "https://localhost:8080/"
        },
        "id": "pzzE_5TklfUL",
        "outputId": "bf1eb221-aa48-404d-b7e2-e6fed2be150d"
      },
      "outputs": [
        {
          "output_type": "stream",
          "name": "stdout",
          "text": [
            "Mounted at /content/drive\n",
            "Dataset shape: (303, 13)\n"
          ]
        }
      ],
      "source": [
        "from google.colab import drive\n",
        "import os\n",
        "import pandas as pd\n",
        "import numpy as np\n",
        "import matplotlib.pyplot as plt\n",
        "import seaborn as sns\n",
        "\n",
        "from sklearn.ensemble import RandomForestClassifier\n",
        "from sklearn.feature_selection import RFE, chi2, SelectKBest\n",
        "from sklearn.preprocessing import MinMaxScaler\n",
        "from sklearn.model_selection import train_test_split\n",
        "from sklearn.linear_model import LogisticRegression\n",
        "\n",
        "# Mount Google Drive\n",
        "drive.mount('/content/drive')\n",
        "\n",
        "# Define project/data paths\n",
        "project_path = \"/content/drive/MyDrive/Heart_Disease_Project\"\n",
        "data_path = os.path.join(project_path, \"data\")\n",
        "os.makedirs(data_path, exist_ok=True)\n",
        "\n",
        "# --- Load PCA dataset ---\n",
        "df = pd.read_csv(os.path.join(data_path, \"pca_heart.csv\"))\n",
        "\n",
        "X = df.drop(\"target\", axis=1)\n",
        "y = df[\"target\"]\n",
        "\n",
        "print(\"Dataset shape:\", df.shape)\n"
      ]
    },
    {
      "cell_type": "code",
      "source": [
        "# Train a Random Forest to rank features\n",
        "rf = RandomForestClassifier(random_state=42)\n",
        "rf.fit(X, y)\n",
        "\n",
        "# Get feature importance\n",
        "importances = rf.feature_importances_\n",
        "feat_importance_df = pd.DataFrame({\n",
        "    \"Feature\": X.columns,\n",
        "    \"Importance\": importances\n",
        "}).sort_values(by=\"Importance\", ascending=False)\n",
        "\n",
        "# Plot feature importance\n",
        "plt.figure(figsize=(10,6))\n",
        "sns.barplot(x=\"Importance\", y=\"Feature\", data=feat_importance_df)\n",
        "plt.title(\"Feature Importance (Random Forest)\")\n",
        "plt.show()\n"
      ],
      "metadata": {
        "colab": {
          "base_uri": "https://localhost:8080/",
          "height": 395
        },
        "id": "cfHkHIUlmPeV",
        "outputId": "0eac88c7-c9b0-45e5-e966-70890bd0048b"
      },
      "execution_count": 2,
      "outputs": [
        {
          "output_type": "display_data",
          "data": {
            "text/plain": [
              "<Figure size 1000x600 with 1 Axes>"
            ],
            "image/png": "[encoded data removed]"
          },
          "metadata": {}
        }
      ]
    },
    {
      "cell_type": "code",
      "source": [
        "model = LogisticRegression(max_iter=1000, solver=\"liblinear\")\n",
        "rfe = RFE(model, n_features_to_select=5)\n",
        "rfe.fit(X, y)\n",
        "\n",
        "selected_features_rfe = X.columns[rfe.support_].tolist()\n",
        "print(\"RFE selected features:\", selected_features_rfe)"
      ],
      "metadata": {
        "colab": {
          "base_uri": "https://localhost:8080/"
        },
        "id": "xpxU7a8imY6S",
        "outputId": "138831b1-ac5d-4a4f-bb7a-52862ace8d95"
      },
      "execution_count": 4,
      "outputs": [
        {
          "output_type": "stream",
          "name": "stdout",
          "text": [
            "RFE selected features: ['PC1', 'PC6', 'PC7', 'PC9', 'PC12']\n"
          ]
        }
      ]
    },
    {
      "cell_type": "code",
      "source": [
        "scaler = MinMaxScaler()\n",
        "X_scaled = scaler.fit_transform(X)\n",
        "\n",
        "chi2_selector = SelectKBest(chi2, k=5)\n",
        "chi2_selector.fit(X_scaled, y)\n",
        "\n",
        "selected_features_chi2 = X.columns[chi2_selector.get_support()].tolist()\n",
        "print(\"Chi-Square selected features:\", selected_features_chi2)\n"
      ],
      "metadata": {
        "colab": {
          "base_uri": "https://localhost:8080/"
        },
        "id": "nVVGk5TgmeAI",
        "outputId": "24e787a1-7ac1-4be6-f4fe-1702100a4ed9"
      },
      "execution_count": 5,
      "outputs": [
        {
          "output_type": "stream",
          "name": "stdout",
          "text": [
            "Chi-Square selected features: ['PC1', 'PC2', 'PC4', 'PC6', 'PC7']\n"
          ]
        }
      ]
    },
    {
      "cell_type": "code",
      "source": [
        "final_selected_features = list(set(selected_features_rfe + selected_features_chi2))\n",
        "print(\"Final selected features:\", final_selected_features)\n",
        "\n",
        "\n",
        "reduced_df = df[final_selected_features + [\"target\"]]\n",
        "print(\"Reduced dataset shape:\", reduced_df.shape)\n",
        "\n",
        "\n",
        "reduced_path = os.path.join(data_path, \"selected_features_heart.csv\")\n",
        "reduced_df.to_csv(reduced_path, index=False)\n",
        "\n",
        "print(\"Reduced dataset saved at\", reduced_path)\n"
      ],
      "metadata": {
        "colab": {
          "base_uri": "https://localhost:8080/"
        },
        "id": "qLXqqxB4moV7",
        "outputId": "489dea1c-fdd5-4c0a-9bb6-9592e04bd023"
      },
      "execution_count": 6,
      "outputs": [
        {
          "output_type": "stream",
          "name": "stdout",
          "text": [
            "Final selected features: ['PC2', 'PC6', 'PC12', 'PC1', 'PC7', 'PC4', 'PC9']\n",
            "Reduced dataset shape: (303, 8)\n",
            "Reduced dataset saved at /content/drive/MyDrive/Heart_Disease_Project/data/selected_features_heart.csv\n"
          ]
        }
      ]
    }
  ]
}